{
 "cells": [
  {
   "cell_type": "code",
   "execution_count": 2,
   "id": "mighty-making",
   "metadata": {},
   "outputs": [],
   "source": [
    "import pretty_midi"
   ]
  },
  {
   "cell_type": "code",
   "execution_count": 4,
   "id": "subsequent-relations",
   "metadata": {},
   "outputs": [],
   "source": [
    "mid = pretty_midi.PrettyMIDI(\"/Users/sorensabet/Desktop/Master's Coursework/CSC2506_Project/Splitting MIDI Files/1/1_0_0.mid\")"
   ]
  },
  {
   "cell_type": "code",
   "execution_count": 6,
   "id": "eligible-mobile",
   "metadata": {},
   "outputs": [
    {
     "data": {
      "text/plain": [
       "<pretty_midi.pretty_midi.PrettyMIDI at 0x1048151f0>"
      ]
     },
     "execution_count": 6,
     "metadata": {},
     "output_type": "execute_result"
    }
   ],
   "source": []
  }
 ],
 "metadata": {
  "kernelspec": {
   "display_name": "Python 3",
   "language": "python",
   "name": "python3"
  },
  "language_info": {
   "codemirror_mode": {
    "name": "ipython",
    "version": 3
   },
   "file_extension": ".py",
   "mimetype": "text/x-python",
   "name": "python",
   "nbconvert_exporter": "python",
   "pygments_lexer": "ipython3",
   "version": "3.8.5"
  }
 },
 "nbformat": 4,
 "nbformat_minor": 5
}
