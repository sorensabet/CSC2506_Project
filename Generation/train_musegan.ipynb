{
 "cells": [
  {
   "cell_type": "markdown",
   "metadata": {
    "id": "qgXVFl5SmZvC"
   },
   "source": [
    "# Generating Music with GANs"
   ]
  },
  {
   "cell_type": "markdown",
   "metadata": {
    "id": "mArAbLs2mBhd"
   },
   "source": [
    "## Prerequisites"
   ]
  },
  {
   "cell_type": "markdown",
   "metadata": {
    "id": "Bn-74oKmdyF7"
   },
   "source": [
    "### Import libraries"
   ]
  },
  {
   "cell_type": "code",
   "execution_count": 1,
   "metadata": {
    "id": "zOkT9h38krfZ"
   },
   "outputs": [],
   "source": [
    "from IPython.display import clear_output\n",
    "from ipywidgets import interact, IntSlider\n",
    "\n",
    "import os\n",
    "import os.path\n",
    "import random\n",
    "from pathlib import Path\n",
    "\n",
    "import numpy as np\n",
    "import matplotlib.pyplot as plt\n",
    "import torch\n",
    "import pypianoroll\n",
    "from pypianoroll import Multitrack, Track, BinaryTrack\n",
    "from tqdm import tqdm\n",
    "from livelossplot import PlotLosses\n",
    "from livelossplot.outputs import MatplotlibPlot"
   ]
  },
  {
   "cell_type": "markdown",
   "metadata": {
    "id": "6VyXuXFtoLxL"
   },
   "source": [
    "## Settings"
   ]
  },
  {
   "cell_type": "code",
   "execution_count": 2,
   "metadata": {
    "id": "PA14sQ-YoTvW"
   },
   "outputs": [],
   "source": [
    "# Data\n",
    "n_tracks = 1  # number of tracks\n",
    "n_pitches = 72  # number of pitches\n",
    "lowest_pitch = 24  # MIDI note number of the lowest pitch\n",
    "n_samples_per_song = 8  # number of samples to extract from each song in the datset\n",
    "n_measures = 4  # number of measures per sample\n",
    "beat_resolution = 4  # temporal resolution of a beat (in timestep)\n",
    "measure_resolution = 4 * beat_resolution\n",
    "programs = [0]\n",
    "is_drums = [False]\n",
    "track_names = ['Piano']\n",
    "tempo = 100\n",
    "\n",
    "# Training\n",
    "batch_size = 16\n",
    "latent_dim = 128\n",
    "n_steps = 50000\n",
    "\n",
    "# Sampling\n",
    "sample_interval = 100  # interval to run the sampler (in step)\n",
    "n_samples = 4\n",
    "\n",
    "tempo_array = np.full((4 * 4 * measure_resolution, 1), tempo)"
   ]
  },
  {
   "cell_type": "markdown",
   "metadata": {
    "id": "iGRUCRm_CGej"
   },
   "source": [
    "### Collect training data"
   ]
  },
  {
   "cell_type": "code",
   "execution_count": 3,
   "metadata": {},
   "outputs": [
    {
     "name": "stderr",
     "output_type": "stream",
     "text": [
      "100%|████████████████████████████████████████████████████████████████████████████████| 994/994 [05:56<00:00,  2.79it/s]\n"
     ]
    }
   ],
   "source": [
    "valid_midi_files = []\n",
    "\n",
    "## read data from unzipped path. i've called it \"Split Midi Files\" here\n",
    "\n",
    "for path in tqdm(os.listdir(\"Split Midi Files\")):\n",
    "    track_folder_path = os.path.join(\"Split Midi Files/\", path)\n",
    "    for file in os.listdir(track_folder_path):\n",
    "        if file != \"0_original.midi\":\n",
    "            try:\n",
    "                midi_path = os.path.join(track_folder_path,file)\n",
    "                track = pypianoroll.read(midi_path)\n",
    "                valid_midi_files.append(midi_path)\n",
    "            except:\n",
    "                continue"
   ]
  },
  {
   "cell_type": "code",
   "execution_count": 10,
   "metadata": {
    "colab": {
     "base_uri": "https://localhost:8080/"
    },
    "id": "MPGrsycbhodh",
    "outputId": "5932a359-eca5-4ab4-f8f8-9bc5bca6c38e",
    "scrolled": true
   },
   "outputs": [
    {
     "name": "stderr",
     "output_type": "stream",
     "text": [
      "100%|███████████████████████████████████████████████████████████████████████████| 30951/30951 [03:53<00:00, 132.68it/s]\n"
     ]
    },
    {
     "name": "stdout",
     "output_type": "stream",
     "text": [
      "Successfully collect 28922 samples\n",
      "Data shape : (28922, 1, 64, 72)\n"
     ]
    }
   ],
   "source": [
    "data = []\n",
    "plot_counter = 0\n",
    "\n",
    "for midi_path in tqdm(valid_midi_files):\n",
    "    \n",
    "    multitrack = pypianoroll.read(midi_path)\n",
    "    multitrack.binarize()\n",
    "    multitrack.set_resolution(beat_resolution)\n",
    "    pianoroll = multitrack.tracks[0].pianoroll > 0\n",
    "    pianoroll = pianoroll[np.newaxis, ...]\n",
    "    pianoroll = pianoroll[:, :, lowest_pitch:lowest_pitch + n_pitches]\n",
    "    n_total_measures = multitrack.get_max_length() // measure_resolution\n",
    "    candidate = n_total_measures - n_measures # the last index where you can take 4 measures without array out of bounds\n",
    "    target_n_samples = min(n_total_measures // n_measures, n_samples_per_song)\n",
    "    # Randomly select a number of phrases from the multitrack pianoroll\n",
    "    try:\n",
    "        for idx in np.random.choice(candidate, target_n_samples, False):\n",
    "            start = idx * measure_resolution\n",
    "            end = (idx + n_measures) * measure_resolution\n",
    "            # Skip the samples where some track(s) has too few notes\n",
    "            if (pianoroll.sum(axis=(1, 2)) < 500).any():\n",
    "                continue\n",
    "            data.append(pianoroll[:, start:end])\n",
    "    except:\n",
    "        continue\n",
    "\n",
    "data = np.array(data)\n",
    "# Stack all the collected pianoroll segments into one big array\n",
    "random.shuffle(data)\n",
    "data = np.stack(data)\n",
    "\n",
    "print(f\"Successfully collect {len(data)} samples\")\n",
    "print(f\"Data shape : {data.shape}\")"
   ]
  },
  {
   "cell_type": "markdown",
   "metadata": {
    "id": "V6fauic_H2wt"
   },
   "source": [
    "### Create dataset and data loader"
   ]
  },
  {
   "cell_type": "code",
   "execution_count": 7,
   "metadata": {
    "id": "gBxjQEZFRhAK"
   },
   "outputs": [],
   "source": [
    "data = torch.as_tensor(data, dtype=torch.float32)\n",
    "dataset = torch.utils.data.TensorDataset(data)\n",
    "data_loader = torch.utils.data.DataLoader(\n",
    "    dataset, batch_size=batch_size, drop_last=True, shuffle=True)"
   ]
  },
  {
   "cell_type": "markdown",
   "metadata": {
    "id": "94rrn1nmIQlG"
   },
   "source": [
    "## Model"
   ]
  },
  {
   "cell_type": "markdown",
   "metadata": {
    "id": "SyX6Duf5fkiw"
   },
   "source": [
    " ### Define the generator"
   ]
  },
  {
   "cell_type": "code",
   "execution_count": 8,
   "metadata": {
    "id": "Fj9sCKbSKcse"
   },
   "outputs": [],
   "source": [
    "class GeneraterBlock(torch.nn.Module):\n",
    "    def __init__(self, in_dim, out_dim, kernel, stride):\n",
    "        super().__init__()\n",
    "        self.transconv = torch.nn.ConvTranspose3d(in_dim, out_dim, kernel, stride)\n",
    "        self.batchnorm = torch.nn.BatchNorm3d(out_dim)\n",
    "    \n",
    "    def forward(self, x):\n",
    "        x = self.transconv(x)\n",
    "        x = self.batchnorm(x)\n",
    "        return torch.nn.functional.relu(x)"
   ]
  },
  {
   "cell_type": "code",
   "execution_count": 9,
   "metadata": {
    "id": "ZWPAxfkmsIWn"
   },
   "outputs": [],
   "source": [
    "class Generator(torch.nn.Module):\n",
    "    \"\"\"A convolutional neural network (CNN) based generator. The generator takes\n",
    "    as input a latent vector and outputs a fake sample.\"\"\"\n",
    "    def __init__(self):\n",
    "        super().__init__()\n",
    "        self.transconv0 = GeneraterBlock(latent_dim, 256, (4, 1, 1), (4, 1, 1))\n",
    "        self.transconv1 = GeneraterBlock(256, 128, (1, 4, 1), (1, 4, 1))\n",
    "        self.transconv2 = GeneraterBlock(128, 64, (1, 1, 4), (1, 1, 4))\n",
    "        self.transconv3 = GeneraterBlock(64, 32, (1, 1, 3), (1, 1, 1))\n",
    "        self.transconv4 = torch.nn.ModuleList([\n",
    "            GeneraterBlock(32, 16, (1, 4, 1), (1, 4, 1))\n",
    "            for _ in range(n_tracks)\n",
    "        ])\n",
    "        self.transconv5 = torch.nn.ModuleList([\n",
    "            GeneraterBlock(16, 1, (1, 1, 12), (1, 1, 12))\n",
    "            for _ in range(n_tracks)\n",
    "        ])\n",
    "\n",
    "    def forward(self, x):\n",
    "        x = x.view(-1, latent_dim, 1, 1, 1)\n",
    "        x = self.transconv0(x)\n",
    "        x = self.transconv1(x)\n",
    "        x = self.transconv2(x)\n",
    "        x = self.transconv3(x)\n",
    "        x = [transconv(x) for transconv in self.transconv4]\n",
    "        x = torch.cat([transconv(x_) for x_, transconv in zip(x, self.transconv5)], 1)\n",
    "        x = x.view(-1, n_tracks, n_measures * measure_resolution, n_pitches)\n",
    "        return x"
   ]
  },
  {
   "cell_type": "markdown",
   "metadata": {
    "id": "cJPGeYNbfvw6"
   },
   "source": [
    " ### Define the discriminator"
   ]
  },
  {
   "cell_type": "code",
   "execution_count": 10,
   "metadata": {
    "id": "Knw5u6Px2c8j"
   },
   "outputs": [],
   "source": [
    "class LayerNorm(torch.nn.Module):\n",
    "    \"\"\"An implementation of Layer normalization that does not require size\n",
    "    information. Copied from https://github.com/pytorch/pytorch/issues/1959.\"\"\"\n",
    "    def __init__(self, n_features, eps=1e-5, affine=True):\n",
    "        super().__init__()\n",
    "        self.n_features = n_features\n",
    "        self.affine = affine\n",
    "        self.eps = eps\n",
    "        if self.affine:\n",
    "            self.gamma = torch.nn.Parameter(torch.Tensor(n_features).uniform_())\n",
    "            self.beta = torch.nn.Parameter(torch.zeros(n_features))\n",
    "\n",
    "    def forward(self, x):\n",
    "        shape = [-1] + [1] * (x.dim() - 1)\n",
    "        \n",
    "        # reshape to [BS x everything else] and take the mean over everything else\n",
    "        # basically norm over everything but batch (layernorm)\n",
    "        # the last view unrolls it back to original shape\n",
    "        mean = x.view(x.size(0), -1).mean(1).view(*shape)\n",
    "        std = x.view(x.size(0), -1).std(1).view(*shape)\n",
    "        y = (x - mean) / (std + self.eps)\n",
    "        if self.affine:\n",
    "            shape = [1, -1] + [1] * (x.dim() - 2)\n",
    "            y = self.gamma.view(*shape) * y + self.beta.view(*shape)\n",
    "        return y"
   ]
  },
  {
   "cell_type": "code",
   "execution_count": 11,
   "metadata": {
    "id": "gZhbO2jiFLG5"
   },
   "outputs": [],
   "source": [
    "class DiscriminatorBlock(torch.nn.Module):\n",
    "    def __init__(self, in_dim, out_dim, kernel, stride):\n",
    "        super().__init__()\n",
    "        self.transconv = torch.nn.Conv3d(in_dim, out_dim, kernel, stride)\n",
    "        self.layernorm = LayerNorm(out_dim)\n",
    "    \n",
    "    def forward(self, x):\n",
    "        x = self.transconv(x)\n",
    "        x = self.layernorm(x)\n",
    "        return torch.nn.functional.leaky_relu(x)"
   ]
  },
  {
   "cell_type": "code",
   "execution_count": 12,
   "metadata": {
    "id": "kczm8A8Nl78i"
   },
   "outputs": [],
   "source": [
    "class Discriminator(torch.nn.Module):\n",
    "    \"\"\"A convolutional neural network (CNN) based discriminator. The\n",
    "    discriminator takes as input either a real sample (in the training data) or\n",
    "    a fake sample (generated by the generator) and outputs a scalar indicating\n",
    "    its authentity.\n",
    "    \"\"\"\n",
    "    def __init__(self):\n",
    "        super().__init__()\n",
    "        self.conv0 = torch.nn.ModuleList([\n",
    "            DiscriminatorBlock(1, 16, (1, 1, 12), (1, 1, 12)) for _ in range(n_tracks)\n",
    "        ])\n",
    "        self.conv1 = torch.nn.ModuleList([\n",
    "            DiscriminatorBlock(16, 16, (1, 4, 1), (1, 4, 1)) for _ in range(n_tracks)\n",
    "        ])\n",
    "        \n",
    "        ## change from 16*5 to 16*n_tracks\n",
    "        self.conv2 = DiscriminatorBlock(16 * n_tracks, 64, (1, 1, 3), (1, 1, 1))\n",
    "        self.conv3 = DiscriminatorBlock(64, 64, (1, 1, 4), (1, 1, 4))\n",
    "        self.conv4 = DiscriminatorBlock(64, 128, (1, 4, 1), (1, 4, 1))\n",
    "        self.conv5 = DiscriminatorBlock(128, 128, (2, 1, 1), (1, 1, 1))\n",
    "        self.conv6 = DiscriminatorBlock(128, 256, (3, 1, 1), (3, 1, 1))\n",
    "        self.dense = torch.nn.Linear(256, 1)\n",
    "\n",
    "    def forward(self, x):\n",
    "        x = x.view(-1, n_tracks, n_measures, measure_resolution, n_pitches)\n",
    "        x = [conv(x[:, [i]]) for i, conv in enumerate(self.conv0)]\n",
    "        \n",
    "        #concatenate along track dimension. each track went from C=1 -> C=16\n",
    "        #so in self.conv2 the input channel is 16*n_tracks\n",
    "        x = torch.cat([conv(x_) for x_, conv in zip(x, self.conv1)], 1)\n",
    "        x = self.conv2(x)\n",
    "        x = self.conv3(x)          \n",
    "        x = self.conv4(x)\n",
    "        x = self.conv5(x)\n",
    "        x = self.conv6(x)\n",
    "        x = x.view(-1, 256)\n",
    "        x = self.dense(x)\n",
    "        return x"
   ]
  },
  {
   "cell_type": "markdown",
   "metadata": {
    "id": "IiPl8DYCI7pC"
   },
   "source": [
    "## Training functions"
   ]
  },
  {
   "cell_type": "code",
   "execution_count": 13,
   "metadata": {
    "id": "5wngyfaaObas"
   },
   "outputs": [],
   "source": [
    "def compute_gradient_penalty(discriminator, real_samples, fake_samples):\n",
    "    \"\"\"Compute the gradient penalty for regularization. Intuitively, the\n",
    "    gradient penalty help stablize the magnitude of the gradients that the\n",
    "    discriminator provides to the generator, and thus help stablize the training\n",
    "    of the generator.\"\"\"\n",
    "    # Get random interpolations between real and fake samples\n",
    "    alpha = torch.rand(real_samples.size(0), 1, 1, 1).cuda()\n",
    "    interpolates = (alpha * real_samples + ((1 - alpha) * fake_samples))\n",
    "    interpolates = interpolates.requires_grad_(True)\n",
    "    # Get the discriminator output for the interpolations\n",
    "    d_interpolates = discriminator(interpolates)\n",
    "    # Get gradients w.r.t. the interpolations\n",
    "    fake = torch.ones(real_samples.size(0), 1).cuda()\n",
    "    gradients = torch.autograd.grad(\n",
    "        outputs=d_interpolates,\n",
    "        inputs=interpolates,\n",
    "        grad_outputs=fake,\n",
    "        create_graph=True,\n",
    "        retain_graph=True,\n",
    "        only_inputs=True\n",
    "    )[0]\n",
    "    # Compute gradient penalty\n",
    "    gradients = gradients.view(gradients.size(0), -1)\n",
    "    gradient_penalty = ((gradients.norm(2, dim=1) - 1) ** 2).mean() # 2 means frobenius norm\n",
    "    return gradient_penalty"
   ]
  },
  {
   "cell_type": "code",
   "execution_count": 14,
   "metadata": {
    "id": "x3mgXtVN8ldM"
   },
   "outputs": [],
   "source": [
    "def train_one_step(d_optimizer, g_optimizer, real_samples):\n",
    "    \"\"\"Train the networks for one step.\"\"\"\n",
    "    # Sample from the lantent distribution\n",
    "    latent = torch.randn(batch_size, latent_dim)\n",
    "\n",
    "    # Transfer data to GPU\n",
    "    if torch.cuda.is_available():\n",
    "        real_samples = real_samples.cuda()\n",
    "        latent = latent.cuda()\n",
    "    \n",
    "    # === Train the discriminator ===\n",
    "    # Reset cached gradients to zero\n",
    "    d_optimizer.zero_grad()\n",
    "    # Get discriminator outputs for the real samples\n",
    "    prediction_real = discriminator(real_samples)\n",
    "    # Compute the loss function\n",
    "    # d_loss_real = torch.mean(torch.nn.functional.relu(1. - prediction_real))\n",
    "    d_loss_real = -torch.mean(prediction_real) # want discriminator to predict 1s for real sample => minimize negative of it\n",
    "    # Backpropagate the gradients\n",
    "    d_loss_real.backward()\n",
    "    \n",
    "    # Generate fake samples with the generator\n",
    "    fake_samples = generator(latent)\n",
    "    # Get discriminator outputs for the fake samples\n",
    "    prediction_fake_d = discriminator(fake_samples.detach())\n",
    "    # Compute the loss function\n",
    "    # d_loss_fake = torch.mean(torch.nn.functional.relu(1. + prediction_fake_d))\n",
    "    d_loss_fake = torch.mean(prediction_fake_d)\n",
    "    # Backpropagate the gradients\n",
    "    d_loss_fake.backward()\n",
    "\n",
    "    # Compute gradient penalty\n",
    "    gradient_penalty = 10.0 * compute_gradient_penalty(\n",
    "        discriminator, real_samples.data, fake_samples.data)\n",
    "    # Backpropagate the gradients\n",
    "    gradient_penalty.backward()\n",
    "\n",
    "    # Update the weights\n",
    "    d_optimizer.step()\n",
    "    \n",
    "    # === Train the generator ===\n",
    "    # Reset cached gradients to zero\n",
    "    g_optimizer.zero_grad()\n",
    "    # Get discriminator outputs for the fake samples\n",
    "    prediction_fake_g = discriminator(fake_samples)\n",
    "    # Compute the loss function\n",
    "    g_loss = -torch.mean(prediction_fake_g) # generator wants discriminator to think its samples are all 1s (real samples)\n",
    "    # Backpropagate the gradients\n",
    "    g_loss.backward()\n",
    "    # Update the weights\n",
    "    g_optimizer.step()\n",
    "\n",
    "    return d_loss_real + d_loss_fake, g_loss"
   ]
  },
  {
   "cell_type": "markdown",
   "metadata": {
    "id": "4ukfh1dxIsDw"
   },
   "source": [
    "## Training Preparation"
   ]
  },
  {
   "cell_type": "code",
   "execution_count": 15,
   "metadata": {
    "colab": {
     "base_uri": "https://localhost:8080/"
    },
    "id": "uCqTBe3p09xY",
    "outputId": "664a83da-3273-4cef-df00-f3b33eae03ef"
   },
   "outputs": [
    {
     "name": "stdout",
     "output_type": "stream",
     "text": [
      "Number of parameters in G: 304787\n",
      "Number of parameters in D: 186785\n"
     ]
    }
   ],
   "source": [
    "# Create data loader\n",
    "# data_loader = get_data_loader()\n",
    "\n",
    "# Create neural networks\n",
    "discriminator = Discriminator()\n",
    "generator = Generator()\n",
    "print(\"Number of parameters in G: {}\".format(\n",
    "    sum(p.numel() for p in generator.parameters() if p.requires_grad)))\n",
    "print(\"Number of parameters in D: {}\".format(\n",
    "    sum(p.numel() for p in discriminator.parameters() if p.requires_grad)))\n",
    "\n",
    "# Create optimizers\n",
    "d_optimizer = torch.optim.Adam(\n",
    "    discriminator.parameters(), lr=0.001,  betas=(0.5, 0.9))\n",
    "g_optimizer = torch.optim.Adam(\n",
    "    generator.parameters(), lr=0.001, betas=(0.5, 0.9))\n",
    "\n",
    "# Prepare the inputs for the sampler, which wil run during the training\n",
    "sample_latent = torch.randn(n_samples, latent_dim)\n",
    "\n",
    "# Transfer the neural nets and samples to GPU\n",
    "if torch.cuda.is_available():\n",
    "    discriminator = discriminator.cuda()\n",
    "    generator = generator.cuda()\n",
    "    sample_latent = sample_latent.cuda()\n",
    "\n",
    "# Create an empty dictionary to sotre history samples\n",
    "history_samples = {}\n",
    "\n",
    "# Create a LiveLoss logger instance for monitoring\n",
    "liveloss = PlotLosses(outputs=[MatplotlibPlot(cell_size=(6,2))])"
   ]
  },
  {
   "cell_type": "markdown",
   "metadata": {
    "id": "cL499fTNJcSd"
   },
   "source": [
    "## Training"
   ]
  },
  {
   "cell_type": "code",
   "execution_count": 16,
   "metadata": {
    "colab": {
     "base_uri": "https://localhost:8080/",
     "height": 775
    },
    "id": "JsCO34_A3N2U",
    "outputId": "6761cd07-de43-4fd3-bd27-656e11907d9c",
    "scrolled": true
   },
   "outputs": [
    {
     "data": {
      "image/png": "[encoded data removed]",
      "text/plain": [
       "<Figure size 864x288 with 2 Axes>"
      ]
     },
     "metadata": {
      "needs_background": "light"
     },
     "output_type": "display_data"
    },
    {
     "data": {
      "image/png": "[encoded data removed]",
      "text/plain": [
       "<Figure size 1152x576 with 1 Axes>"
      ]
     },
     "metadata": {
      "needs_background": "light"
     },
     "output_type": "display_data"
    }
   ],
   "source": [
    "# Initialize step\n",
    "step = 0\n",
    "\n",
    "# Create a progress bar instance for monitoring\n",
    "progress_bar = tqdm(total=n_steps, initial=step, ncols=80, mininterval=1)\n",
    "\n",
    "# Start iterations\n",
    "while step < n_steps + 1:\n",
    "    # Iterate over the dataset\n",
    "    for real_samples in data_loader:\n",
    "        # Train the neural networks\n",
    "        generator.train()\n",
    "        d_loss, g_loss = train_one_step(d_optimizer, g_optimizer, real_samples[0])\n",
    "\n",
    "        # Record smoothened loss values to LiveLoss logger\n",
    "        if step > 0:\n",
    "            running_d_loss = 0.05 * d_loss + 0.95 * running_d_loss\n",
    "            running_g_loss = 0.05 * g_loss + 0.95 * running_g_loss\n",
    "        else:\n",
    "            running_d_loss, running_g_loss = 0.0, 0.0\n",
    "        liveloss.update({'negative_critic_loss': -running_d_loss})\n",
    "        # liveloss.update({'d_loss': running_d_loss, 'g_loss': running_g_loss})\n",
    "        \n",
    "        # Update losses to progress bar\n",
    "        progress_bar.set_description_str(\n",
    "            \"(d_loss={: 8.6f}, g_loss={: 8.6f})\".format(d_loss, g_loss))\n",
    "        \n",
    "        if step % sample_interval == 0:\n",
    "            # Get generated samples\n",
    "            generator.eval()\n",
    "            samples = generator(sample_latent).cpu().detach().numpy()\n",
    "            history_samples[step] = samples\n",
    "\n",
    "            # Display loss curves\n",
    "            clear_output(True)\n",
    "            if step > 0:\n",
    "                liveloss.send()\n",
    "            \n",
    "            # Display generated samples\n",
    "            samples = samples.transpose(1, 0, 2, 3).reshape(n_tracks, -1, n_pitches)\n",
    "            tracks = []\n",
    "            for idx, (program, is_drum, track_name) in enumerate(\n",
    "                zip(programs, is_drums, track_names)\n",
    "            ):\n",
    "                pianoroll = np.pad(\n",
    "                    samples[idx] > 0.5,\n",
    "                    ((0, 0), (lowest_pitch, 128 - lowest_pitch - n_pitches))\n",
    "                )\n",
    "                tracks.append(\n",
    "                    Track(\n",
    "                        name=track_name,\n",
    "                        program=program,\n",
    "                        is_drum=is_drum,\n",
    "                        pianoroll=pianoroll\n",
    "                    )\n",
    "                )\n",
    "            m = Multitrack(\n",
    "                tracks=tracks,\n",
    "                tempo=tempo_array,\n",
    "                resolution=beat_resolution\n",
    "            )\n",
    "            axs = m.plot()\n",
    "            plt.gcf().set_size_inches((16, 8))\n",
    "            for ax in axs:\n",
    "                for x in range(\n",
    "                    measure_resolution,\n",
    "                    4 * measure_resolution * n_measures,\n",
    "                    measure_resolution\n",
    "                ):\n",
    "                    if x % (measure_resolution * 4) == 0:\n",
    "                        ax.axvline(x - 0.5, color='k')\n",
    "                    else:\n",
    "                        ax.axvline(x - 0.5, color='k', linestyle='-', linewidth=1)\n",
    "            plt.show()\n",
    "            \n",
    "        step += 1\n",
    "        progress_bar.update(1)\n",
    "        if step >= n_steps:\n",
    "            break"
   ]
  },
  {
   "cell_type": "markdown",
   "metadata": {},
   "source": [
    "## Save models"
   ]
  },
  {
   "cell_type": "code",
   "execution_count": 18,
   "metadata": {
    "id": "aeJpOeUXjdBu"
   },
   "outputs": [],
   "source": [
    "# torch.save(discriminator.state_dict(), \"discriminator_1_track_own_data.model\")\n",
    "# torch.save(generator.state_dict(), \"generator_1_track_own_data.model\")"
   ]
  },
  {
   "cell_type": "markdown",
   "metadata": {},
   "source": [
    "## Load model"
   ]
  },
  {
   "cell_type": "code",
   "execution_count": 192,
   "metadata": {},
   "outputs": [],
   "source": [
    "# discriminator = Discriminator()\n",
    "# generator = Generator()\n",
    "# discriminator.load_state_dict(torch.load(\"discriminator_1_track_own_data.model\"))\n",
    "# generator.load_state_dict(torch.load(\"generator_1_track_own_data.model\"))\n",
    "# discriminator.cuda();\n",
    "# generator.cuda();"
   ]
  },
  {
   "cell_type": "markdown",
   "metadata": {},
   "source": [
    "## Use generator to generate random music"
   ]
  },
  {
   "cell_type": "code",
   "execution_count": 193,
   "metadata": {},
   "outputs": [
    {
     "data": {
      "text/plain": [
       "(2, 1, 64, 72)"
      ]
     },
     "execution_count": 193,
     "metadata": {},
     "output_type": "execute_result"
    }
   ],
   "source": [
    "n_output_samples = 2\n",
    "\n",
    "## sample latent noise vector\n",
    "sample_latent = torch.randn(n_output_samples, latent_dim).cuda()\n",
    "\n",
    "## pass noise through generator\n",
    "output = generator(sample_latent)\n",
    "output = output.cpu().detach().numpy()\n",
    "\n",
    "output.shape"
   ]
  },
  {
   "cell_type": "markdown",
   "metadata": {},
   "source": [
    "## Calculate some metrics"
   ]
  },
  {
   "cell_type": "code",
   "execution_count": 196,
   "metadata": {},
   "outputs": [],
   "source": [
    "## reshape it from a 4d tensor to a 2d tensor representing a single pianoroll\n",
    "write_to_mid = output[:5].reshape(-1, n_pitches)"
   ]
  },
  {
   "cell_type": "code",
   "execution_count": 197,
   "metadata": {},
   "outputs": [],
   "source": [
    "## convert GAN output to a Multitrack that can be saved to midi using pypianoroll\n",
    "tracks = []\n",
    "pianoroll = np.pad(\n",
    "            write_to_mid > 0.5,\n",
    "            ((0, 0), (lowest_pitch, 128 - lowest_pitch - n_pitches))\n",
    "        )\n",
    "\n",
    "track_name = 'Piano'\n",
    "program = 0\n",
    "is_drum = False\n",
    "\n",
    "tracks.append(\n",
    "    BinaryTrack(\n",
    "        name=track_name,\n",
    "        program=program,\n",
    "        is_drum=is_drum,\n",
    "        pianoroll=pianoroll,\n",
    "    )\n",
    ")\n",
    "m = Multitrack(tracks=tracks, tempo=tempo_array, resolution=beat_resolution)"
   ]
  },
  {
   "cell_type": "code",
   "execution_count": 199,
   "metadata": {},
   "outputs": [],
   "source": [
    "pypianoroll.write(\"own_data.mid\",m)"
   ]
  }
 ],
 "metadata": {
  "accelerator": "GPU",
  "colab": {
   "collapsed_sections": [],
   "machine_shape": "hm",
   "name": "Music Generation with GANs.ipynb",
   "provenance": []
  },
  "kernelspec": {
   "display_name": "Python 3",
   "language": "python",
   "name": "python3"
  },
  "language_info": {
   "codemirror_mode": {
    "name": "ipython",
    "version": 3
   },
   "file_extension": ".py",
   "mimetype": "text/x-python",
   "name": "python",
   "nbconvert_exporter": "python",
   "pygments_lexer": "ipython3",
   "version": "3.8.3"
  }
 },
 "nbformat": 4,
 "nbformat_minor": 1
}
